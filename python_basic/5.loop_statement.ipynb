{
 "cells": [
  {
   "cell_type": "code",
   "execution_count": null,
   "metadata": {},
   "outputs": [],
   "source": [
    "# 반복문\n",
    "# for 반복문: 반복할 횟수가 정해져 있는 반복작업에서 사용\n",
    "# for 변수 in range(반복횟수):\n",
    "#   반복할 실행문"
   ]
  },
  {
   "cell_type": "code",
   "execution_count": null,
   "metadata": {},
   "outputs": [],
   "source": [
    "# for (int index = 0; index < 5: index++) - X\n",
    "\n",
    "# int[] arry = {0, 1, 2, 3, 4};\n",
    "# for (int index: array) {} - O\n",
    "\n",
    "# range(정수): 0부터 정수 - 까지의 정수 리스트 생성\n",
    "# range(시작 정수, 종료 정수): 시작 정수부터 종료 정수-1 까지의 정수 리스트 생성\n",
    "# range(시작 정수, 종료 정수, 차이): 시작 정수부터 종료 정수 -1 까지의 정수 리스트를 생성하는데\n",
    "# 차이정수 만큼의 차이를 가지며 변경됨\n",
    "\n",
    "for index in range(5):\n",
    "    print(index)\n",
    "\n",
    "for index in range(5, 10):\n",
    "    print(index)\n",
    "\n",
    "for index in range(5, 10, 3):\n",
    "    print(index)\n",
    "\n",
    "for index in range(10, -1, -1):\n",
    "    print(index)"
   ]
  },
  {
   "cell_type": "code",
   "execution_count": 4,
   "metadata": {},
   "outputs": [
    {
     "name": "stdout",
     "output_type": "stream",
     "text": [
      "0\n",
      "2\n",
      "4\n"
     ]
    }
   ],
   "source": [
    "for index in [0, 2, 4]:\n",
    "    print(index)"
   ]
  },
  {
   "cell_type": "code",
   "execution_count": 16,
   "metadata": {},
   "outputs": [
    {
     "name": "stdout",
     "output_type": "stream",
     "text": [
      "*\n",
      "**\n",
      "***\n",
      "****\n",
      "*****\n",
      "******\n",
      "*******\n",
      "********\n",
      "*********\n",
      "**********\n"
     ]
    }
   ],
   "source": [
    "# 강사님 코드\n",
    "for count in range(1, 11):\n",
    "    print(\"*\" * count)"
   ]
  },
  {
   "cell_type": "code",
   "execution_count": 19,
   "metadata": {},
   "outputs": [
    {
     "name": "stdout",
     "output_type": "stream",
     "text": [
      "**********\n",
      "*********\n",
      "********\n",
      "*******\n",
      "******\n",
      "*****\n",
      "****\n",
      "***\n",
      "**\n",
      "*\n"
     ]
    }
   ],
   "source": [
    "# 강사님 코드\n",
    "for count in range(10, 0, -1):\n",
    "    print(\"*\" * count)"
   ]
  },
  {
   "cell_type": "code",
   "execution_count": null,
   "metadata": {},
   "outputs": [],
   "source": [
    "# 간단하게 만들기만 하면 이렇게 됨\n",
    "for count in range(1, 11):\n",
    "    print(\"*\" * count)\n",
    "for count in range(9, 0, -1):\n",
    "    print(\"*\" * count)"
   ]
  },
  {
   "cell_type": "code",
   "execution_count": null,
   "metadata": {},
   "outputs": [],
   "source": [
    "# 와우 언빌리버블\n",
    "for count in range (1,20):\n",
    "\n",
    "    if count <= 10:\n",
    "        print (\"*\" * count)\n",
    "    else:\n",
    "        print (\"*\" * (20-count))"
   ]
  },
  {
   "cell_type": "code",
   "execution_count": 37,
   "metadata": {},
   "outputs": [
    {
     "name": "stdout",
     "output_type": "stream",
     "text": [
      "     *\n",
      "    ***\n",
      "   *****\n",
      "  *******\n",
      " *********\n",
      "***********\n"
     ]
    }
   ],
   "source": [
    "# 분하지만 여기까지함;\n",
    "for count in range (1, 12):\n",
    "\n",
    "    if count <=6:\n",
    "        print((\" \"*(6-count)) +\"*\" * (2*count-1))\n",
    "    else:\n",
    "        count > 7\n",
    "        print ()\n",
    "    \n",
    " \n",
    "\n",
    "    "
   ]
  },
  {
   "cell_type": "code",
   "execution_count": 42,
   "metadata": {},
   "outputs": [
    {
     "name": "stdout",
     "output_type": "stream",
     "text": [
      "     *\n",
      "    ***\n",
      "   *****\n",
      "  *******\n",
      " *********\n",
      "***********\n",
      " *********\n",
      "  *******\n",
      "   *****\n",
      "    ***\n",
      "     *\n"
     ]
    }
   ],
   "source": [
    "# 강사님 코드1\n",
    "for count in range (1, 12):\n",
    "    if count < 6: \n",
    "        print((\" \"*(6-count)) + \"*\" * (count * 2 -1))\n",
    "    else:\n",
    "        print(\" \" * (count - 6)+\"*\" * ((12 - count) * 2 -1))\n",
    "\n"
   ]
  },
  {
   "cell_type": "code",
   "execution_count": null,
   "metadata": {},
   "outputs": [],
   "source": [
    "# 강사님 코드2\n",
    "for count in range (1, 12):\n",
    "    star = \"*\"\n",
    "    if count <=6: \n",
    "        star = \"*\" * (count * 2 -1)\n",
    "    else:\n",
    "        star = \"*\" * ((12-count) * 2-1)\n",
    "    print(f'{star:^11}')"
   ]
  },
  {
   "cell_type": "code",
   "execution_count": null,
   "metadata": {},
   "outputs": [],
   "source": [
    "# 중첩 for 반복문\n",
    "# 0 1 2 3\n",
    "# 1 2 3 4\n",
    "# 2 3 4 5\n",
    "# 3 4 5 6"
   ]
  },
  {
   "cell_type": "code",
   "execution_count": 48,
   "metadata": {},
   "outputs": [
    {
     "name": "stdout",
     "output_type": "stream",
     "text": [
      "0 1 2 3 \n",
      "1 2 3 4 \n",
      "2 3 4 5 \n",
      "3 4 5 6 \n"
     ]
    }
   ],
   "source": [
    "for a in range(4):\n",
    "    for b in range(4):\n",
    "        print(a+b, end=\" \")\n",
    "    print(\"\")"
   ]
  },
  {
   "cell_type": "code",
   "execution_count": 49,
   "metadata": {},
   "outputs": [
    {
     "name": "stdout",
     "output_type": "stream",
     "text": [
      "0 1 2 3 \n",
      "1 2 3 4 \n",
      "2 3 4 5 \n",
      "3 4 5 6 \n"
     ]
    }
   ],
   "source": [
    "# 위의 코드랑 같음\n",
    "for start in range(4):\n",
    "    for value in range(start, start+4):\n",
    "        print(value, end=\" \")\n",
    "    print(\"\")"
   ]
  },
  {
   "cell_type": "code",
   "execution_count": 91,
   "metadata": {},
   "outputs": [
    {
     "name": "stdout",
     "output_type": "stream",
     "text": [
      "1 3\n",
      "2 2\n",
      "2 6\n",
      "3 1\n",
      "3 5\n",
      "4 4\n",
      "5 3\n",
      "6 2\n",
      "6 6\n"
     ]
    }
   ],
   "source": [
    "# 강사님 코드 보기\n",
    "for a in range (1, 7):\n",
    "    for b in range (1, 7):\n",
    "        if (a +b) % 4  == 0:\n",
    "            print(f'{a} {b}')"
   ]
  },
  {
   "cell_type": "code",
   "execution_count": null,
   "metadata": {},
   "outputs": [],
   "source": [
    "# 어떤 주식의 가격은 매일 한 번 동전을 던져서 앞면이 나오면 전날 가격의 2배가 되고,\n",
    "# 뒷면이 나오면 전날 가격의 절반이 된다. \n",
    "# 1일에 주식의 가격이 1,024원이었을 때, 4일 주식의 가격이 나올 수 있는 경우를 모두 구한다. \n",
    "# (힌트: for 반복문이 4개 중첩되어야 한다)"
   ]
  },
  {
   "cell_type": "code",
   "execution_count": null,
   "metadata": {},
   "outputs": [],
   "source": [
    "for day1 in range(2):\n",
    "    for day2 in range(2):\n",
    "        for day3 in range(2):\n",
    "            for day4 in range(2):\n",
    "                print(1024 *  2 **(2*day1-1) * 2 **(2*day2-1)*  2 **(2*day3-1)*  2 **(2*day4-1))\n",
    "                  \n",
    "        \n",
    "    "
   ]
  },
  {
   "cell_type": "code",
   "execution_count": null,
   "metadata": {},
   "outputs": [],
   "source": [
    "# gpt 코드\n",
    "initial_price = 1024\n",
    "\n",
    "for day1 in [0, 1]:  # 0은 뒷면, 1은 앞면\n",
    "    for day2 in [0, 1]:\n",
    "        for day3 in [0, 1]:\n",
    "            for day4 in [0, 1]:\n",
    "                price = initial_price\n",
    "                if day1 == 1:\n",
    "                    price *= 2\n",
    "                else:\n",
    "                    price /= 2\n",
    "\n",
    "                if day2 == 1:\n",
    "                    price *= 2\n",
    "                else:\n",
    "                    price /= 2\n",
    "\n",
    "                if day3 == 1:\n",
    "                    price *= 2\n",
    "                else:\n",
    "                    price /= 2\n",
    "\n",
    "                if day4 == 1:\n",
    "                    price *= 2\n",
    "                else:\n",
    "                    price /= 2\n",
    "\n",
    "                print(f\"가격: {price}원 (동전: {day1}, {day2}, {day3}, {day4})\")"
   ]
  },
  {
   "cell_type": "code",
   "execution_count": null,
   "metadata": {},
   "outputs": [],
   "source": [
    "for count in range(1,11):\n",
    "    sum = 0\n",
    "    for value in range(count + 1):\n",
    "        sum += value\n",
    "    print(sum)"
   ]
  },
  {
   "cell_type": "code",
   "execution_count": null,
   "metadata": {},
   "outputs": [],
   "source": [
    "# 다음과 같은 수열이 있을 경우에 10번째 수열의 값을 구한다.\n",
    "# 1+(1+2)+(1+2+3)+(1+2+3+4)+⋯+(1+⋯+10)"
   ]
  },
  {
   "cell_type": "code",
   "execution_count": 98,
   "metadata": {},
   "outputs": [
    {
     "name": "stdout",
     "output_type": "stream",
     "text": [
      "220\n"
     ]
    }
   ],
   "source": [
    "sum = 0\n",
    "for count in range (1, 11):\n",
    "    for value in range(1 + count):\n",
    "        sum += value\n",
    "print(sum)"
   ]
  }
 ],
 "metadata": {
  "kernelspec": {
   "display_name": "Python 3",
   "language": "python",
   "name": "python3"
  },
  "language_info": {
   "codemirror_mode": {
    "name": "ipython",
    "version": 3
   },
   "file_extension": ".py",
   "mimetype": "text/x-python",
   "name": "python",
   "nbconvert_exporter": "python",
   "pygments_lexer": "ipython3",
   "version": "3.12.2"
  }
 },
 "nbformat": 4,
 "nbformat_minor": 2
}
