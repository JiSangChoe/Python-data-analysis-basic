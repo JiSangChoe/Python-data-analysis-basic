{
 "cells": [
  {
   "cell_type": "code",
   "execution_count": 1,
   "metadata": {},
   "outputs": [
    {
     "name": "stdout",
     "output_type": "stream",
     "text": [
      "soojebi\n",
      "soojebi world\n",
      "soojebi 123\n"
     ]
    }
   ],
   "source": [
    "a = \"soojebi\"\n",
    "print (\"%s\" %a)\n",
    "b = \"%s\" % \" world\"\n",
    "print(a + b)\n",
    "c = 123\n",
    "print (\"%s %d\" % (a, c))"
   ]
  },
  {
   "cell_type": "code",
   "execution_count": 2,
   "metadata": {},
   "outputs": [
    {
     "name": "stdout",
     "output_type": "stream",
     "text": [
      "True\n",
      "False\n"
     ]
    }
   ],
   "source": [
    "print(\"hello\" in \"hello world\")\n",
    "print(\"soojebi\" in \"hello world\")"
   ]
  },
  {
   "cell_type": "code",
   "execution_count": 4,
   "metadata": {},
   "outputs": [
    {
     "name": "stdout",
     "output_type": "stream",
     "text": [
      "SKIDDP\n"
     ]
    }
   ],
   "source": [
    "class Soojebi:  # Soojebi 클래스 정의\n",
    "    li = [\"Seoul\", \"Kyeonggi\", \"Inchon\", \"Daegda\", \"Daegu\", \"Pusan\"]  # 클래스 속성으로 문자열 리스트를 가짐\n",
    "\n",
    "s = Soojebi()  # Soojebi 클래스의 인스턴스 생성\n",
    "\n",
    "str01 = ''  # 빈 문자열 초기화\n",
    "\n",
    "for i in s.li:  # Soojebi 클래스의 li 속성에 있는 각 문자열에 대해 반복\n",
    "    str01 = str01 + i[0]  # 각 문자열의 첫 번째 글자를 str01에 추가\n",
    "\n",
    "print(str01)  # 결과 출력\n"
   ]
  },
  {
   "cell_type": "code",
   "execution_count": 5,
   "metadata": {},
   "outputs": [
    {
     "name": "stdout",
     "output_type": "stream",
     "text": [
      "26\n"
     ]
    }
   ],
   "source": [
    "a = 100\n",
    "i = 0\n",
    "result = 0\n",
    "for i in range(1,3):\n",
    "    result = a >> i\n",
    "    result += 1\n",
    "print(result)"
   ]
  }
 ],
 "metadata": {
  "kernelspec": {
   "display_name": "Python 3",
   "language": "python",
   "name": "python3"
  },
  "language_info": {
   "codemirror_mode": {
    "name": "ipython",
    "version": 3
   },
   "file_extension": ".py",
   "mimetype": "text/x-python",
   "name": "python",
   "nbconvert_exporter": "python",
   "pygments_lexer": "ipython3",
   "version": "3.12.2"
  }
 },
 "nbformat": 4,
 "nbformat_minor": 2
}
